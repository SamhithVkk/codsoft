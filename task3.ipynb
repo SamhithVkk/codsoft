"#spam sms detection",
{
  "nbformat": 4,
  "nbformat_minor": 0,
  "metadata": {
    "colab": {
      "provenance": [],
      "authorship_tag": "ABX9TyMCz7puHyJy7Of22Sta93yx",
      "include_colab_link": true
    },
    "kernelspec": {
      "name": "python3",
      "display_name": "Python 3"
    },
    "language_info": {
      "name": "python"
    }
  },
  "cells": [
    {
      "cell_type": "markdown",
      "metadata": {
        "id": "view-in-github",
        "colab_type": "text"
      },
      "source": [
        "<a href=\"https://colab.research.google.com/github/SamhithVkk/codsoft/blob/main/task3.ipynb\" target=\"_parent\"><img src=\"https://colab.research.google.com/assets/colab-badge.svg\" alt=\"Open In Colab\"/></a>"
      ]
    },
    {
      "cell_type": "code",
      "execution_count": 1,
      "metadata": {
        "colab": {
          "base_uri": "https://localhost:8080/"
        },
        "id": "Su5-XdEWO5H4",
        "outputId": "59056cdd-3880-479f-93db-cadffbd7837d"
      },
      "outputs": [
        {
          "output_type": "stream",
          "name": "stdout",
          "text": [
            "Naive Bayes Classifier:\n",
            "Accuracy: 0.97\n",
            "Classification Report:\n",
            "               precision    recall  f1-score   support\n",
            "\n",
            "           0       0.96      1.00      0.98       965\n",
            "           1       1.00      0.75      0.86       150\n",
            "\n",
            "    accuracy                           0.97      1115\n",
            "   macro avg       0.98      0.88      0.92      1115\n",
            "weighted avg       0.97      0.97      0.96      1115\n",
            "\n",
            "\n",
            "Logistic Regression Classifier:\n",
            "Accuracy: 0.95\n",
            "Classification Report:\n",
            "               precision    recall  f1-score   support\n",
            "\n",
            "           0       0.95      1.00      0.97       965\n",
            "           1       0.97      0.67      0.79       150\n",
            "\n",
            "    accuracy                           0.95      1115\n",
            "   macro avg       0.96      0.83      0.88      1115\n",
            "weighted avg       0.95      0.95      0.95      1115\n",
            "\n",
            "\n",
            "Support Vector Machine (SVM) Classifier:\n",
            "Accuracy: 0.98\n",
            "Classification Report:\n",
            "               precision    recall  f1-score   support\n",
            "\n",
            "           0       0.97      1.00      0.99       965\n",
            "           1       0.99      0.83      0.91       150\n",
            "\n",
            "    accuracy                           0.98      1115\n",
            "   macro avg       0.98      0.92      0.95      1115\n",
            "weighted avg       0.98      0.98      0.98      1115\n",
            "\n"
          ]
        }
      ],
      "source": [
        "import pandas as pd\n",
        "from sklearn.model_selection import train_test_split\n",
        "from sklearn.feature_extraction.text import TfidfVectorizer\n",
        "from sklearn.naive_bayes import MultinomialNB\n",
        "from sklearn.linear_model import LogisticRegression\n",
        "from sklearn.svm import SVC\n",
        "from sklearn.metrics import accuracy_score, classification_report\n",
        "\n",
        "data = pd.read_csv('spam.csv', encoding='latin-1')\n",
        "\n",
        "X = data['v2']\n",
        "y = data['v1']\n",
        "\n",
        "# Convert labels to binary values (0 for 'ham' and 1 for 'spam')\n",
        "y = y.map({'ham': 0, 'spam': 1})\n",
        "\n",
        "X_train, X_test, y_train, y_test = train_test_split(X, y, test_size=0.2, random_state=42)\n",
        "\n",
        "# Create TF-IDF vectorizer\n",
        "tfidf_vectorizer = TfidfVectorizer(stop_words='english')\n",
        "\n",
        "X_train_tfidf = tfidf_vectorizer.fit_transform(X_train)\n",
        "X_test_tfidf = tfidf_vectorizer.transform(X_test)\n",
        "\n",
        "# Build and train the Naive Bayes classifier\n",
        "naive_bayes_classifier = MultinomialNB()\n",
        "naive_bayes_classifier.fit(X_train_tfidf, y_train)\n",
        "\n",
        "y_pred_nb = naive_bayes_classifier.predict(X_test_tfidf)\n",
        "\n",
        "# Build and train the Logistic Regression classifier\n",
        "logistic_regression_classifier = LogisticRegression()\n",
        "logistic_regression_classifier.fit(X_train_tfidf, y_train)\n",
        "\n",
        "y_pred_lr = logistic_regression_classifier.predict(X_test_tfidf)\n",
        "\n",
        "# Build and train the Support Vector Machine (SVM) classifier\n",
        "svm_classifier = SVC()\n",
        "svm_classifier.fit(X_train_tfidf, y_train)\n",
        "\n",
        "y_pred_svm = svm_classifier.predict(X_test_tfidf)\n",
        "\n",
        "accuracy_nb = accuracy_score(y_test, y_pred_nb)\n",
        "accuracy_lr = accuracy_score(y_test, y_pred_lr)\n",
        "accuracy_svm = accuracy_score(y_test, y_pred_svm)\n",
        "\n",
        "class_report_nb = classification_report(y_test, y_pred_nb)\n",
        "class_report_lr = classification_report(y_test, y_pred_lr)\n",
        "class_report_svm = classification_report(y_test, y_pred_svm)\n",
        "\n",
        "print('Naive Bayes Classifier:')\n",
        "print(f'Accuracy: {accuracy_nb:.2f}')\n",
        "print('Classification Report:\\n', class_report_nb)\n",
        "\n",
        "print('\\nLogistic Regression Classifier:')\n",
        "print(f'Accuracy: {accuracy_lr:.2f}')\n",
        "print('Classification Report:\\n', class_report_lr)\n",
        "\n",
        "print('\\nSupport Vector Machine (SVM) Classifier:')\n",
        "print(f'Accuracy: {accuracy_svm:.2f}')\n",
        "print('Classification Report:\\n', class_report_svm)\n"
      ]
    }
  ]
}
