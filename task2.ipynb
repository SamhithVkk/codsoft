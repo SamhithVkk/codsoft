{
  "nbformat": 4,
  "nbformat_minor": 0,
  "metadata": {
    "colab": {
      "provenance": [],
      "authorship_tag": "ABX9TyMAdGBSCI0ctpe/dc4yMi7O",
      "include_colab_link": true
    },
    "kernelspec": {
      "name": "python3",
      "display_name": "Python 3"
    },
    "language_info": {
      "name": "python"
    }
  },
  "cells": [
    {
      "cell_type": "markdown",
      "metadata": {
        "id": "view-in-github",
        "colab_type": "text"
      },
      "source": [
        "<a href=\"https://colab.research.google.com/github/SamhithVkk/codsoft/blob/main/task2.ipynb\" target=\"_parent\"><img src=\"https://colab.research.google.com/assets/colab-badge.svg\" alt=\"Open In Colab\"/></a>"
      ]
    },
    {
      "cell_type": "code",
      "execution_count": 1,
      "metadata": {
        "colab": {
          "base_uri": "https://localhost:8080/"
        },
        "id": "NgqFydKWO59n",
        "outputId": "5c46344a-3ecb-44b7-c1b3-2bb40b9aa96e"
      },
      "outputs": [
        {
          "output_type": "stream",
          "name": "stdout",
          "text": [
            "Logistic Regression\n",
            "Accuracy: 0.811\n",
            "              precision    recall  f1-score   support\n",
            "\n",
            "           0       0.83      0.96      0.89      1607\n",
            "           1       0.55      0.20      0.30       393\n",
            "\n",
            "    accuracy                           0.81      2000\n",
            "   macro avg       0.69      0.58      0.59      2000\n",
            "weighted avg       0.78      0.81      0.77      2000\n",
            "\n",
            "[[1542   65]\n",
            " [ 313   80]]\n",
            "\n",
            "\n",
            "Random Forest\n",
            "Accuracy: 0.8445\n",
            "              precision    recall  f1-score   support\n",
            "\n",
            "           0       0.84      0.99      0.91      1607\n",
            "           1       0.89      0.24      0.38       393\n",
            "\n",
            "    accuracy                           0.84      2000\n",
            "   macro avg       0.86      0.62      0.64      2000\n",
            "weighted avg       0.85      0.84      0.81      2000\n",
            "\n",
            "[[1595   12]\n",
            " [ 299   94]]\n",
            "\n",
            "\n",
            "Gradient Boosting\n",
            "Accuracy: 0.8625\n",
            "              precision    recall  f1-score   support\n",
            "\n",
            "           0       0.88      0.96      0.92      1607\n",
            "           1       0.75      0.45      0.56       393\n",
            "\n",
            "    accuracy                           0.86      2000\n",
            "   macro avg       0.81      0.71      0.74      2000\n",
            "weighted avg       0.85      0.86      0.85      2000\n",
            "\n",
            "[[1547   60]\n",
            " [ 215  178]]\n",
            "\n",
            "\n"
          ]
        }
      ],
      "source": [
        "import pandas as pd\n",
        "from sklearn.model_selection import train_test_split\n",
        "from sklearn.preprocessing import StandardScaler, OneHotEncoder\n",
        "from sklearn.compose import ColumnTransformer\n",
        "from sklearn.pipeline import Pipeline\n",
        "from sklearn.linear_model import LogisticRegression\n",
        "from sklearn.ensemble import RandomForestClassifier, GradientBoostingClassifier\n",
        "from sklearn.metrics import accuracy_score, classification_report, confusion_matrix\n",
        "data = pd.read_csv('Churn_Modelling.csv')\n",
        "X = data.drop('Exited', axis=1)\n",
        "y = data['Exited']\n",
        "\n",
        "X_train, X_test, y_train, y_test = train_test_split(X, y, test_size=0.2, random_state=42)\n",
        "categorical_cols = ['RowNumber', 'CustomerId', 'Surname', 'Geography', 'Gender', ]\n",
        "numeric_cols = ['CreditScore', 'Age', 'Tenure', 'Balance', 'NumOfProducts', 'HasCrCard', 'IsActiveMember', 'EstimatedSalary']\n",
        "# Create a ColumnTransformer to handle preprocessing\n",
        "preprocessor = ColumnTransformer(\n",
        "    transformers=[\n",
        "        ('num', StandardScaler(), numeric_cols),\n",
        "        ('cat', OneHotEncoder(handle_unknown='ignore'), categorical_cols)\n",
        "    ]\n",
        ")\n",
        "# Build and train Logistic Regression classifier\n",
        "lr_model = Pipeline(steps=[('preprocessor', preprocessor), ('classifier', LogisticRegression(max_iter=1000))])\n",
        "lr_model.fit(X_train, y_train)\n",
        "y_pred_lr = lr_model.predict(X_test)\n",
        "\n",
        "# Build and train Random Forest classifier\n",
        "rf_model = Pipeline(steps=[('preprocessor', preprocessor), ('classifier', RandomForestClassifier())])\n",
        "rf_model.fit(X_train, y_train)\n",
        "y_pred_rf = rf_model.predict(X_test)\n",
        "\n",
        "# Build and train Gradient Boosting classifier\n",
        "gb_model = Pipeline(steps=[('preprocessor', preprocessor), ('classifier', GradientBoostingClassifier())])\n",
        "gb_model.fit(X_train, y_train)\n",
        "y_pred_gb = gb_model.predict(X_test)\n",
        "classifiers = [\n",
        "    ('Logistic Regression', y_pred_lr),\n",
        "    ('Random Forest', y_pred_rf),\n",
        "    ('Gradient Boosting', y_pred_gb)\n",
        "]\n",
        "for name, y_pred in classifiers:\n",
        "    print(name)\n",
        "    print(\"Accuracy:\", accuracy_score(y_test, y_pred))\n",
        "    print(classification_report(y_test, y_pred))\n",
        "    print(confusion_matrix(y_test, y_pred))\n",
        "    print(\"\\n\")"
      ]
    }
  ]
}